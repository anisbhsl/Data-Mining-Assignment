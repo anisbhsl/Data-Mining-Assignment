{
 "cells": [
  {
   "cell_type": "code",
   "execution_count": 1,
   "metadata": {},
   "outputs": [],
   "source": [
    "import pandas as pd \n",
    "import numpy as np"
   ]
  },
  {
   "cell_type": "markdown",
   "metadata": {},
   "source": [
    "## K-Means Clustering \n",
    "1. Choose the number of clusters(K) and obtain the data points \n",
    "2. Place the centroids c_1, c_2, ..... c_k randomly \n",
    "3. Repeat steps 4 and 5 until convergence or until the end of a fixed number of iterations\n",
    "4. for each data point x_i:\n",
    "       - find the nearest centroid(c_1, c_2 .. c_k) \n",
    "       - assign the point to that cluster \n",
    "5. for each cluster j = 1..k\n",
    "       - new centroid = mean of all points assigned to that cluster\n",
    "6. End "
   ]
  },
  {
   "cell_type": "code",
   "execution_count": 2,
   "metadata": {},
   "outputs": [],
   "source": [
    "from sklearn.utils import shuffle"
   ]
  },
  {
   "cell_type": "code",
   "execution_count": 3,
   "metadata": {},
   "outputs": [],
   "source": [
    "## Load Iris dataset\n",
    "\n",
    "df = pd.read_csv('iris.csv') \n",
    "## Store the target vaue\n",
    "classes = df['Species']  \n",
    "## Drop the Id and Class values from dat\n",
    "df = df.drop(['Id','Species'],axis=1) \n",
    "## Convert dataframe into list and then into a numpy array\n",
    "data = df.values.tolist() \n",
    "data = np.array(data)\n",
    "## Shuffle classes and data \n",
    "data,classes = shuffle(data,classes) \n",
    "## First 135 points are used for training and the rest is used for testing\n",
    "train_data = data[:135]  \n",
    "test_data = data[135:]"
   ]
  },
  {
   "cell_type": "code",
   "execution_count": 4,
   "metadata": {},
   "outputs": [
    {
     "name": "stdout",
     "output_type": "stream",
     "text": [
      "1\n",
      "2\n",
      "3\n",
      "4\n",
      "5\n",
      "6\n",
      "7\n",
      "8\n",
      "9\n",
      "10\n",
      "11\n",
      "12\n",
      "Converged\n"
     ]
    }
   ],
   "source": [
    "## K-Means Algorithm\n",
    "import random\n",
    "import numpy as np\n",
    "## Randomly place the centroids of the three clusters \n",
    "c1 = [float(np.random.randint(4,8)),float(np.random.randint(1,5)),\n",
    "      float(np.random.randint(1,7)),float(np.random.randint(0,3))]\n",
    "c2 = [float(np.random.randint(4,8)),float(np.random.randint(1,5)),\n",
    "      float(np.random.randint(1,7)),float(np.random.randint(0,3))]\n",
    "c3 = [float(np.random.randint(4,8)),float(np.random.randint(1,5)),\n",
    "      float(np.random.randint(1,7)),float(np.random.randint(0,3))]\n",
    "## Intialize the number of iterations you want to run \n",
    "epochs = 1\n",
    "while(epochs <= 100):\n",
    "    cluster_1 = []\n",
    "    cluster_2 = []\n",
    "    cluster_3 = []\n",
    "    for point in train_data:\n",
    "        ## Find the eucledian distance between all points the centroid\n",
    "        dis_point_c1 = ((c1[0]-point[0])**2 + (c1[1]-point[1])**2 + \n",
    "                        (c1[2]-point[2])**2 + (c1[3]-point[3])**2)**0.5\n",
    "        dis_point_c2 = ((c2[0]-point[0])**2 + (c2[1]-point[1])**2 + \n",
    "                        (c2[2]-point[2])**2 + (c2[3]-point[3])**2)**0.5\n",
    "        dis_point_c3 = ((c3[0]-point[0])**2 + (c3[1]-point[1])**2 + \n",
    "                        (c3[2]-point[2])**2 + (c3[3]-point[3])**2)**0.5\n",
    "        distances = [dis_point_c1,dis_point_c2,dis_point_c3]\n",
    "        ## Find the closest centroid to the point and assign the point to that cluster\n",
    "        pos = distances.index(min(distances))\n",
    "        if(pos == 0):\n",
    "            cluster_1.append(point)\n",
    "        elif(pos == 1):\n",
    "            cluster_2.append(point)\n",
    "        else:\n",
    "            cluster_3.append(point)\n",
    "    ## Store the centroid values to calculate new centroid values \n",
    "    prev_c1 = c1\n",
    "    prev_c2 = c2\n",
    "    prev_c3 = c3\n",
    "    cluster_1 = np.array(cluster_1)\n",
    "    cluster_2 = np.array(cluster_2)\n",
    "    cluster_3 = np.array(cluster_3)\n",
    "    ## Find mean of all points within a cluster and make it as the centroid \n",
    "    if(len(cluster_1) != 0):\n",
    "        c1 = [sum(cluster_1[:,0])/float(len(cluster_1)),\n",
    "              sum(cluster_1[:,1])/float(len(cluster_1)),\n",
    "              sum(cluster_1[:,2])/float(len(cluster_1)),\n",
    "              sum(cluster_1[:,3])/float(len(cluster_1))]\n",
    "    if(len(cluster_2) != 0):\n",
    "        c2 = [sum(cluster_2[:,0])/float(len(cluster_2)),\n",
    "              sum(cluster_2[:,1])/float(len(cluster_2)),\n",
    "              sum(cluster_2[:,2])/float(len(cluster_2)),\n",
    "              sum(cluster_2[:,3])/float(len(cluster_2))]\n",
    "    if(len(cluster_3) != 0):\n",
    "        c3 = [sum(cluster_3[:,0])/float(len(cluster_3)),\n",
    "              sum(cluster_3[:,1])/float(len(cluster_3)),\n",
    "              sum(cluster_3[:,2])/float(len(cluster_3)),\n",
    "              sum(cluster_3[:,3])/float(len(cluster_3))]\n",
    "    ## If centroid values hasn't changed, algorithm has convereged \n",
    "    if(prev_c1 == c1 and prev_c2 == c2 and prev_c3 == c3):\n",
    "        print(\"Converged\")\n",
    "        break\n",
    "    print(epochs)\n",
    "    epochs += 1\n",
    "    "
   ]
  },
  {
   "cell_type": "code",
   "execution_count": 5,
   "metadata": {},
   "outputs": [
    {
     "name": "stdout",
     "output_type": "stream",
     "text": [
      "[1]\n",
      "[1, 0]\n",
      "[1, 0, 2]\n",
      "[1, 0, 2, 0]\n",
      "[1, 0, 2, 0, 0]\n",
      "[1, 0, 2, 0, 0, 2]\n",
      "[1, 0, 2, 0, 0, 2, 2]\n",
      "[1, 0, 2, 0, 0, 2, 2, 0]\n",
      "[1, 0, 2, 0, 0, 2, 2, 0, 0]\n",
      "[1, 0, 2, 0, 0, 2, 2, 0, 0, 0]\n",
      "[1, 0, 2, 0, 0, 2, 2, 0, 0, 0, 1]\n",
      "[1, 0, 2, 0, 0, 2, 2, 0, 0, 0, 1, 2]\n",
      "[1, 0, 2, 0, 0, 2, 2, 0, 0, 0, 1, 2, 1]\n",
      "[1, 0, 2, 0, 0, 2, 2, 0, 0, 0, 1, 2, 1, 2]\n",
      "[1, 0, 2, 0, 0, 2, 2, 0, 0, 0, 1, 2, 1, 2, 1]\n"
     ]
    }
   ],
   "source": [
    "pred = []\n",
    "for point in test_data:\n",
    "    ## Find distance between test data point and centroids\n",
    "    dis_point_c1 = ((c1[0]-point[0])**2 + (c1[1]-point[1])**2 + \n",
    "                    (c1[2]-point[2])**2 + (c1[3]-point[3])**2)**0.5\n",
    "    dis_point_c2 = ((c2[0]-point[0])**2 + (c2[1]-point[1])**2 + \n",
    "                    (c2[2]-point[2])**2 + (c2[3]-point[3])**2)**0.5\n",
    "    dis_point_c3 = ((c3[0]-point[0])**2 + (c3[1]-point[1])**2 + \n",
    "                    (c3[2]-point[2])**2 + (c3[3]-point[3])**2)**0.5\n",
    "    ## Find the cluster to which the point is closest to and append \n",
    "    ## it to pred\n",
    "    distances = [dis_point_c1,dis_point_c2,dis_point_c3]\n",
    "    pos = distances.index(min(distances))\n",
    "    pred.append(pos)\n",
    "    ## Print the predictions \n",
    "    print(pred)"
   ]
  },
  {
   "cell_type": "code",
   "execution_count": 9,
   "metadata": {},
   "outputs": [
    {
     "data": {
      "text/plain": [
       "array([0, 2, 1, 2, 2, 1, 1, 2, 2, 2, 0, 1, 0, 1, 0])"
      ]
     },
     "execution_count": 9,
     "metadata": {},
     "output_type": "execute_result"
    }
   ],
   "source": [
    "pred"
   ]
  },
  {
   "cell_type": "code",
   "execution_count": 10,
   "metadata": {},
   "outputs": [],
   "source": [
    "from sklearn.metrics import silhouette_score\n"
   ]
  },
  {
   "cell_type": "code",
   "execution_count": 11,
   "metadata": {},
   "outputs": [
    {
     "data": {
      "text/plain": [
       "0.4217300661990136"
      ]
     },
     "execution_count": 11,
     "metadata": {},
     "output_type": "execute_result"
    }
   ],
   "source": [
    "silhouette_score(test_data, pred)"
   ]
  }
 ],
 "metadata": {
  "kernelspec": {
   "display_name": "Python 3",
   "language": "python",
   "name": "python3"
  },
  "language_info": {
   "codemirror_mode": {
    "name": "ipython",
    "version": 3
   },
   "file_extension": ".py",
   "mimetype": "text/x-python",
   "name": "python",
   "nbconvert_exporter": "python",
   "pygments_lexer": "ipython3",
   "version": "3.7.1"
  }
 },
 "nbformat": 4,
 "nbformat_minor": 2
}
