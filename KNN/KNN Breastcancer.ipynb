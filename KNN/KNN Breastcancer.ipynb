{
 "cells": [
  {
   "cell_type": "code",
   "execution_count": 1,
   "metadata": {},
   "outputs": [],
   "source": [
    "import numpy as np\n",
    "import pandas as pd\n",
    "import matplotlib.pyplot as plt"
   ]
  },
  {
   "cell_type": "code",
   "execution_count": 2,
   "metadata": {},
   "outputs": [],
   "source": [
    "dataset = pd.read_csv('breastdata.csv',names=['id','thickness','size_uniformity',\n",
    "                                                            'shape_uniformity','adhesion','cellsize',\n",
    "                                                            'nuclei','chromatin','nucleoli','mitoses',\n",
    "                                                            'type'])\n",
    "dataset = dataset.drop('id',axis=1)"
   ]
  },
  {
   "cell_type": "code",
   "execution_count": 3,
   "metadata": {},
   "outputs": [],
   "source": [
    "dataset.loc[dataset['nuclei']=='?','nuclei'] = np.nan\n",
    "dataset = dataset.dropna()\n",
    "dataset['nuclei'] = dataset['nuclei'].astype('int')"
   ]
  },
  {
   "cell_type": "code",
   "execution_count": 4,
   "metadata": {},
   "outputs": [],
   "source": [
    "def test_train_split(dataset, test_size = 0.25):\n",
    "    train_size = 1-test_size\n",
    "    #Separation of values for statified dataset\n",
    "    truedf = dataset[dataset.iloc[:,-1] == 2]\n",
    "    falsedf = dataset[dataset.iloc[:,-1] == 4]\n",
    "    \n",
    "    #contatinating 75% of true and flase data for train set and remaining for test set\n",
    "    train_set = pd.concat([truedf[0:int(truedf.count()[0]*train_size)],falsedf[0:int(falsedf.count()[0]*train_size)]])\n",
    "    test_set = pd.concat([truedf[int(truedf.count()[0]*train_size):],falsedf[int(falsedf.count()[0]*train_size):]])\n",
    "    \n",
    "    return train_set,test_set\n",
    "\n",
    "train,test = test_train_split(dataset)"
   ]
  },
  {
   "cell_type": "code",
   "execution_count": 5,
   "metadata": {},
   "outputs": [],
   "source": [
    "train = train.values\n",
    "test = test.values"
   ]
  },
  {
   "cell_type": "code",
   "execution_count": null,
   "metadata": {},
   "outputs": [],
   "source": [
    "#print(train[0,-1],test[-2],(np.array(train[:,:-1])-np.array(test[-2,:-1]))**2)"
   ]
  },
  {
   "cell_type": "code",
   "execution_count": null,
   "metadata": {},
   "outputs": [],
   "source": [
    "# distance = []\n",
    "# i = 0\n",
    "# for row in e_distance:\n",
    "#     distance.append([np.sqrt(np.sum(row)),train[i,-1]])\n",
    "#     i=i+1"
   ]
  },
  {
   "cell_type": "code",
   "execution_count": null,
   "metadata": {},
   "outputs": [],
   "source": [
    "# distance.sort()"
   ]
  },
  {
   "cell_type": "code",
   "execution_count": null,
   "metadata": {},
   "outputs": [],
   "source": [
    "# k=4\n",
    "# l = [distance[i][1] for i in range(1,k)]"
   ]
  },
  {
   "cell_type": "code",
   "execution_count": null,
   "metadata": {},
   "outputs": [],
   "source": [
    "# predict = 4 if l.count(2) < l.count(4) else 2\n",
    "# predict"
   ]
  },
  {
   "cell_type": "code",
   "execution_count": 6,
   "metadata": {},
   "outputs": [],
   "source": [
    "def KNNClassifier(k = 3):\n",
    "    predicted = []\n",
    "    for j in range(test.shape[0]):\n",
    "        e_distance = (np.array(train[:,:-1])-np.array(test[j,:-1]))**2\n",
    "        distance = []\n",
    "        i = 0\n",
    "        for row in e_distance:\n",
    "            distance.append([np.sqrt(np.sum(row)),train[i,-1]])\n",
    "            i=i+1\n",
    "        distance.sort()\n",
    "        l = [distance[i][1] for i in range(1,k)]\n",
    "        predict = 4 if l.count(2) < l.count(4) else 2\n",
    "        predicted.append(predict)\n",
    "    return predicted"
   ]
  },
  {
   "cell_type": "code",
   "execution_count": 7,
   "metadata": {},
   "outputs": [],
   "source": [
    "predicted = KNNClassifier(7)\n",
    "actual = test[:,-1]"
   ]
  },
  {
   "cell_type": "code",
   "execution_count": 8,
   "metadata": {},
   "outputs": [],
   "source": [
    "from sklearn.metrics import classification_report,confusion_matrix"
   ]
  },
  {
   "cell_type": "code",
   "execution_count": 9,
   "metadata": {},
   "outputs": [
    {
     "name": "stdout",
     "output_type": "stream",
     "text": [
      "[[111   0]\n",
      " [  2  58]]\n"
     ]
    }
   ],
   "source": [
    "print(confusion_matrix(actual,predicted))"
   ]
  },
  {
   "cell_type": "code",
   "execution_count": 10,
   "metadata": {},
   "outputs": [
    {
     "name": "stdout",
     "output_type": "stream",
     "text": [
      "              precision    recall  f1-score   support\n",
      "\n",
      "           2       0.98      1.00      0.99       111\n",
      "           4       1.00      0.97      0.98        60\n",
      "\n",
      "   micro avg       0.99      0.99      0.99       171\n",
      "   macro avg       0.99      0.98      0.99       171\n",
      "weighted avg       0.99      0.99      0.99       171\n",
      "\n"
     ]
    }
   ],
   "source": [
    "print(classification_report(actual,predicted))"
   ]
  },
  {
   "cell_type": "code",
   "execution_count": 11,
   "metadata": {},
   "outputs": [],
   "source": [
    "#elbow method\n",
    "error_rate = []\n",
    "for i in range(3,40):\n",
    "    predicted = KNNClassifier(i)\n",
    "    error_rate.append((actual != predicted).mean())"
   ]
  },
  {
   "cell_type": "code",
   "execution_count": 12,
   "metadata": {},
   "outputs": [
    {
     "data": {
      "text/plain": [
       "Text(0, 0.5, 'Error Rate')"
      ]
     },
     "execution_count": 12,
     "metadata": {},
     "output_type": "execute_result"
    },
    {
     "data": {
      "image/png": "[encoded data removed]",
      "text/plain": [
       "<Figure size 720x432 with 1 Axes>"
      ]
     },
     "metadata": {
      "needs_background": "light"
     },
     "output_type": "display_data"
    }
   ],
   "source": [
    "plt.figure(figsize=(10,6))\n",
    "plt.plot(range(3,40),error_rate,color=\"blue\",linestyle='dashed',marker='o',markersize=10)\n",
    "plt.title('Error Rate vs K value')\n",
    "plt.xlabel('K')\n",
    "plt.ylabel('Error Rate')"
   ]
  },
  {
   "cell_type": "code",
   "execution_count": null,
   "metadata": {},
   "outputs": [],
   "source": []
  }
 ],
 "metadata": {
  "kernelspec": {
   "display_name": "Python 3",
   "language": "python",
   "name": "python3"
  },
  "language_info": {
   "codemirror_mode": {
    "name": "ipython",
    "version": 3
   },
   "file_extension": ".py",
   "mimetype": "text/x-python",
   "name": "python",
   "nbconvert_exporter": "python",
   "pygments_lexer": "ipython3",
   "version": "3.6.6"
  }
 },
 "nbformat": 4,
 "nbformat_minor": 2
}
